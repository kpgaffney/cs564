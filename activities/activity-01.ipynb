{
  "nbformat": 4,
  "nbformat_minor": 0,
  "metadata": {
    "colab": {
      "provenance": [],
      "authorship_tag": "ABX9TyO5A5N6mYwjRXS0/+m6YXKi"
    },
    "kernelspec": {
      "name": "python3",
      "display_name": "Python 3"
    },
    "language_info": {
      "name": "python"
    }
  },
  "cells": [
    {
      "cell_type": "code",
      "execution_count": 1,
      "metadata": {
        "id": "rjAnHAv-ieFy"
      },
      "outputs": [],
      "source": [
        "# Activity 1"
      ]
    },
    {
      "cell_type": "markdown",
      "source": [
        "# Activity 1\n",
        "\n",
        "*Introduction to SQL*"
      ],
      "metadata": {
        "id": "wsvTiIO_isx5"
      }
    },
    {
      "cell_type": "markdown",
      "source": [],
      "metadata": {
        "id": "1ymfCc0YjZ1a"
      }
    },
    {
      "cell_type": "code",
      "source": [
        "%load_ext sql"
      ],
      "metadata": {
        "colab": {
          "base_uri": "https://localhost:8080/"
        },
        "id": "zlcU8jXkjHf2",
        "outputId": "62c9de33-1696-4761-b033-882f9603ad4e"
      },
      "execution_count": 3,
      "outputs": [
        {
          "output_type": "stream",
          "name": "stdout",
          "text": [
            "The sql extension is already loaded. To reload it, use:\n",
            "  %reload_ext sql\n"
          ]
        }
      ]
    },
    {
      "cell_type": "code",
      "source": [],
      "metadata": {
        "id": "UcCdYFebrIsN"
      },
      "execution_count": null,
      "outputs": []
    }
  ]
}